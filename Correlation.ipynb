{
  "nbformat": 4,
  "nbformat_minor": 0,
  "metadata": {
    "colab": {
      "name": "Correlation.ipynb",
      "provenance": []
    },
    "kernelspec": {
      "name": "python3",
      "display_name": "Python 3"
    },
    "language_info": {
      "name": "python"
    }
  },
  "cells": [
    {
      "cell_type": "code",
      "metadata": {
        "id": "ri72XFeqOWwf"
      },
      "source": [
        "import pandas as pd\n",
        "import requests\n",
        "import matplotlib.pyplot as plt\n",
        "import numpy\n",
        "from numpy import cov\n",
        "\n",
        "download_url = \"https://raw.githubusercontent.com/fivethirtyeight/data/master/nba-elo/nbaallelo.csv\"\n",
        "target_csv_path = \"nba_all_elo.csv\"\n",
        "\n",
        "response = requests.get(download_url)\n",
        "response.raise_for_status()    # Check that the request was successful\n",
        "with open(target_csv_path, \"wb\") as f:\n",
        "    f.write(response.content)\n",
        "\n",
        "nba = pd.read_csv(\"nba_all_elo.csv\")"
      ],
      "execution_count": 40,
      "outputs": []
    },
    {
      "cell_type": "code",
      "metadata": {
        "colab": {
          "base_uri": "https://localhost:8080/"
        },
        "id": "5EyBzKIYPI39",
        "outputId": "91ad06e5-c4e8-452c-96fb-abdd391919f8"
      },
      "source": [
        "type(nba)"
      ],
      "execution_count": 61,
      "outputs": [
        {
          "output_type": "execute_result",
          "data": {
            "text/plain": [
              "pandas.core.frame.DataFrame"
            ]
          },
          "metadata": {},
          "execution_count": 61
        }
      ]
    },
    {
      "cell_type": "code",
      "metadata": {
        "colab": {
          "base_uri": "https://localhost:8080/",
          "height": 224
        },
        "id": "1WmGD9d3OmW4",
        "outputId": "f57f7df1-4c90-4233-9f20-eab3151ff874"
      },
      "source": [
        "nba.head()"
      ],
      "execution_count": 60,
      "outputs": [
        {
          "output_type": "execute_result",
          "data": {
            "text/html": [
              "<div>\n",
              "<style scoped>\n",
              "    .dataframe tbody tr th:only-of-type {\n",
              "        vertical-align: middle;\n",
              "    }\n",
              "\n",
              "    .dataframe tbody tr th {\n",
              "        vertical-align: top;\n",
              "    }\n",
              "\n",
              "    .dataframe thead th {\n",
              "        text-align: right;\n",
              "    }\n",
              "</style>\n",
              "<table border=\"1\" class=\"dataframe\">\n",
              "  <thead>\n",
              "    <tr style=\"text-align: right;\">\n",
              "      <th></th>\n",
              "      <th>gameorder</th>\n",
              "      <th>game_id</th>\n",
              "      <th>lg_id</th>\n",
              "      <th>_iscopy</th>\n",
              "      <th>year_id</th>\n",
              "      <th>date_game</th>\n",
              "      <th>seasongame</th>\n",
              "      <th>is_playoffs</th>\n",
              "      <th>team_id</th>\n",
              "      <th>fran_id</th>\n",
              "      <th>pts</th>\n",
              "      <th>elo_i</th>\n",
              "      <th>elo_n</th>\n",
              "      <th>win_equiv</th>\n",
              "      <th>opp_id</th>\n",
              "      <th>opp_fran</th>\n",
              "      <th>opp_pts</th>\n",
              "      <th>opp_elo_i</th>\n",
              "      <th>opp_elo_n</th>\n",
              "      <th>game_location</th>\n",
              "      <th>game_result</th>\n",
              "      <th>forecast</th>\n",
              "      <th>notes</th>\n",
              "    </tr>\n",
              "  </thead>\n",
              "  <tbody>\n",
              "    <tr>\n",
              "      <th>0</th>\n",
              "      <td>1</td>\n",
              "      <td>194611010TRH</td>\n",
              "      <td>NBA</td>\n",
              "      <td>0</td>\n",
              "      <td>1947</td>\n",
              "      <td>11/1/1946</td>\n",
              "      <td>1</td>\n",
              "      <td>0</td>\n",
              "      <td>TRH</td>\n",
              "      <td>Huskies</td>\n",
              "      <td>66</td>\n",
              "      <td>1300.0000</td>\n",
              "      <td>1293.2767</td>\n",
              "      <td>40.294830</td>\n",
              "      <td>NYK</td>\n",
              "      <td>Knicks</td>\n",
              "      <td>68</td>\n",
              "      <td>1300.0000</td>\n",
              "      <td>1306.7233</td>\n",
              "      <td>H</td>\n",
              "      <td>L</td>\n",
              "      <td>0.640065</td>\n",
              "      <td>NaN</td>\n",
              "    </tr>\n",
              "    <tr>\n",
              "      <th>1</th>\n",
              "      <td>1</td>\n",
              "      <td>194611010TRH</td>\n",
              "      <td>NBA</td>\n",
              "      <td>1</td>\n",
              "      <td>1947</td>\n",
              "      <td>11/1/1946</td>\n",
              "      <td>1</td>\n",
              "      <td>0</td>\n",
              "      <td>NYK</td>\n",
              "      <td>Knicks</td>\n",
              "      <td>68</td>\n",
              "      <td>1300.0000</td>\n",
              "      <td>1306.7233</td>\n",
              "      <td>41.705170</td>\n",
              "      <td>TRH</td>\n",
              "      <td>Huskies</td>\n",
              "      <td>66</td>\n",
              "      <td>1300.0000</td>\n",
              "      <td>1293.2767</td>\n",
              "      <td>A</td>\n",
              "      <td>W</td>\n",
              "      <td>0.359935</td>\n",
              "      <td>NaN</td>\n",
              "    </tr>\n",
              "    <tr>\n",
              "      <th>2</th>\n",
              "      <td>2</td>\n",
              "      <td>194611020CHS</td>\n",
              "      <td>NBA</td>\n",
              "      <td>0</td>\n",
              "      <td>1947</td>\n",
              "      <td>11/2/1946</td>\n",
              "      <td>1</td>\n",
              "      <td>0</td>\n",
              "      <td>CHS</td>\n",
              "      <td>Stags</td>\n",
              "      <td>63</td>\n",
              "      <td>1300.0000</td>\n",
              "      <td>1309.6521</td>\n",
              "      <td>42.012257</td>\n",
              "      <td>NYK</td>\n",
              "      <td>Knicks</td>\n",
              "      <td>47</td>\n",
              "      <td>1306.7233</td>\n",
              "      <td>1297.0712</td>\n",
              "      <td>H</td>\n",
              "      <td>W</td>\n",
              "      <td>0.631101</td>\n",
              "      <td>NaN</td>\n",
              "    </tr>\n",
              "    <tr>\n",
              "      <th>3</th>\n",
              "      <td>2</td>\n",
              "      <td>194611020CHS</td>\n",
              "      <td>NBA</td>\n",
              "      <td>1</td>\n",
              "      <td>1947</td>\n",
              "      <td>11/2/1946</td>\n",
              "      <td>2</td>\n",
              "      <td>0</td>\n",
              "      <td>NYK</td>\n",
              "      <td>Knicks</td>\n",
              "      <td>47</td>\n",
              "      <td>1306.7233</td>\n",
              "      <td>1297.0712</td>\n",
              "      <td>40.692783</td>\n",
              "      <td>CHS</td>\n",
              "      <td>Stags</td>\n",
              "      <td>63</td>\n",
              "      <td>1300.0000</td>\n",
              "      <td>1309.6521</td>\n",
              "      <td>A</td>\n",
              "      <td>L</td>\n",
              "      <td>0.368899</td>\n",
              "      <td>NaN</td>\n",
              "    </tr>\n",
              "    <tr>\n",
              "      <th>4</th>\n",
              "      <td>3</td>\n",
              "      <td>194611020DTF</td>\n",
              "      <td>NBA</td>\n",
              "      <td>0</td>\n",
              "      <td>1947</td>\n",
              "      <td>11/2/1946</td>\n",
              "      <td>1</td>\n",
              "      <td>0</td>\n",
              "      <td>DTF</td>\n",
              "      <td>Falcons</td>\n",
              "      <td>33</td>\n",
              "      <td>1300.0000</td>\n",
              "      <td>1279.6189</td>\n",
              "      <td>38.864048</td>\n",
              "      <td>WSC</td>\n",
              "      <td>Capitols</td>\n",
              "      <td>50</td>\n",
              "      <td>1300.0000</td>\n",
              "      <td>1320.3811</td>\n",
              "      <td>H</td>\n",
              "      <td>L</td>\n",
              "      <td>0.640065</td>\n",
              "      <td>NaN</td>\n",
              "    </tr>\n",
              "  </tbody>\n",
              "</table>\n",
              "</div>"
            ],
            "text/plain": [
              "   gameorder       game_id lg_id  ...  game_result  forecast notes\n",
              "0          1  194611010TRH   NBA  ...            L  0.640065   NaN\n",
              "1          1  194611010TRH   NBA  ...            W  0.359935   NaN\n",
              "2          2  194611020CHS   NBA  ...            W  0.631101   NaN\n",
              "3          2  194611020CHS   NBA  ...            L  0.368899   NaN\n",
              "4          3  194611020DTF   NBA  ...            L  0.640065   NaN\n",
              "\n",
              "[5 rows x 23 columns]"
            ]
          },
          "metadata": {},
          "execution_count": 60
        }
      ]
    },
    {
      "cell_type": "code",
      "metadata": {
        "id": "MQOK6IyCb5Oe"
      },
      "source": [
        "#We are looking to see if there is any correlation in the amount of games played to less points scored per game every season."
      ],
      "execution_count": 59,
      "outputs": []
    },
    {
      "cell_type": "code",
      "metadata": {
        "colab": {
          "base_uri": "https://localhost:8080/",
          "height": 588
        },
        "id": "U1d3sFkUOpJ1",
        "outputId": "a5caba52-3df6-4250-eda4-4715eabdbf9c"
      },
      "source": [
        "#Scatterplot\n",
        "print(nba.pts.describe())\n",
        "print(\"\")\n",
        "print(nba.seasongame.describe())\n",
        "\n",
        "x = nba.pts\n",
        "y = nba.seasongame\n",
        "\n",
        "plt.plot(x, y, 'o', color='black');"
      ],
      "execution_count": 62,
      "outputs": [
        {
          "output_type": "stream",
          "name": "stdout",
          "text": [
            "count    126314.000000\n",
            "mean        102.729982\n",
            "std          14.814845\n",
            "min           0.000000\n",
            "25%          93.000000\n",
            "50%         103.000000\n",
            "75%         112.000000\n",
            "max         186.000000\n",
            "Name: pts, dtype: float64\n",
            "\n",
            "count    126314.000000\n",
            "mean         43.533733\n",
            "std          25.375178\n",
            "min           1.000000\n",
            "25%          22.000000\n",
            "50%          43.000000\n",
            "75%          65.000000\n",
            "max         108.000000\n",
            "Name: seasongame, dtype: float64\n"
          ]
        },
        {
          "output_type": "display_data",
          "data": {
            "image/png": "[encoded data removed]",
            "text/plain": [
              "<Figure size 432x288 with 1 Axes>"
            ]
          },
          "metadata": {
            "needs_background": "light"
          }
        }
      ]
    },
    {
      "cell_type": "code",
      "metadata": {
        "colab": {
          "base_uri": "https://localhost:8080/"
        },
        "id": "GvXQR1IBSCwl",
        "outputId": "96b3602d-5e0b-482d-8cc5-663c47558b65"
      },
      "source": [
        "#Now we must test a random sample to make our graph more legible\n",
        "import random\n",
        "nbas = nba.sample(n=1000, random_state=10)\n",
        "\n",
        "#Checking if the random sampling has happened\n",
        "print(nbas.pts.describe())\n",
        "print(\"\")\n",
        "print(nbas.seasongame.describe())\n",
        "\n",
        "#We are testing if the sampled is any amount statistically different from the population\n",
        "#Right now the null hypothesis is that these two are statistically similiar. \n",
        "#We want the the two to be the same so we're looking for a TTest pvalue >= .05 as evidence to prove our null hypothesis\n",
        "from scipy import stats as st\n",
        "print(st.ttest_ind(nba.pts, nbas.pts, equal_var=True))\n",
        "print(st.ttest_ind(nba.seasongame, nbas.seasongame, equal_var=True))"
      ],
      "execution_count": 65,
      "outputs": [
        {
          "output_type": "stream",
          "name": "stdout",
          "text": [
            "count    1000.000000\n",
            "mean      102.624000\n",
            "std        15.432913\n",
            "min        53.000000\n",
            "25%        92.750000\n",
            "50%       103.000000\n",
            "75%       113.000000\n",
            "max       149.000000\n",
            "Name: pts, dtype: float64\n",
            "\n",
            "count    1000.000000\n",
            "mean       43.532000\n",
            "std        25.573051\n",
            "min         1.000000\n",
            "25%        21.000000\n",
            "50%        43.000000\n",
            "75%        64.000000\n",
            "max       102.000000\n",
            "Name: seasongame, dtype: float64\n",
            "Ttest_indResult(statistic=0.22525753170026144, pvalue=0.8217792970011716)\n",
            "Ttest_indResult(statistic=0.0021515394794825527, pvalue=0.9982833245628304)\n"
          ]
        }
      ]
    },
    {
      "cell_type": "code",
      "metadata": {
        "colab": {
          "base_uri": "https://localhost:8080/",
          "height": 265
        },
        "id": "EXpvkUCSVGN6",
        "outputId": "f9e2f8b9-b2a7-48f3-97d8-f1b3b1e0231c"
      },
      "source": [
        "a = nbas.pts\n",
        "b = nbas.seasongame\n",
        "plt.plot(a, b, 'o', color='black');"
      ],
      "execution_count": 56,
      "outputs": [
        {
          "output_type": "display_data",
          "data": {
            "image/png": "[encoded data removed]",
            "text/plain": [
              "<Figure size 432x288 with 1 Axes>"
            ]
          },
          "metadata": {
            "needs_background": "light"
          }
        }
      ]
    },
    {
      "cell_type": "code",
      "metadata": {
        "colab": {
          "base_uri": "https://localhost:8080/"
        },
        "id": "1SllKdJHOxS_",
        "outputId": "6fd8c351-547c-4700-a323-8c616ff55da1"
      },
      "source": [
        "#Pearson Correlation Between two Variables\n",
        "from scipy.stats import pearsonr\n",
        "print(\"Full Sample Correlation\", pearsonr(nba.pts, nba.seasongame))\n",
        "print(\"Sample Correlation\", pearsonr(nbas.pts, nbas.seasongame))"
      ],
      "execution_count": 55,
      "outputs": [
        {
          "output_type": "stream",
          "name": "stdout",
          "text": [
            "Full Sample Correlation (0.06191588724672478, 1.6141744144038865e-107)\n",
            "Sample Correlation (0.046927074961592104, 0.13809423630637638)\n"
          ]
        }
      ]
    },
    {
      "cell_type": "code",
      "metadata": {
        "colab": {
          "base_uri": "https://localhost:8080/"
        },
        "id": "7pVqL6uPO1_x",
        "outputId": "7b6107d0-74c4-4d8f-80d8-0a5f486bc721"
      },
      "source": [
        "#Spearman Rank\n",
        "from scipy.stats import spearmanr\n",
        "print(\"Full Sample Correlation\", spearmanr(nba.pts, nba.seasongame))\n",
        "print(\"Sample Correlation\", spearmanr(nbas.pts, nbas.seasongame))"
      ],
      "execution_count": 54,
      "outputs": [
        {
          "output_type": "stream",
          "name": "stdout",
          "text": [
            "Full Sample Correlation SpearmanrResult(correlation=0.05893975646833312, pvalue=1.351769412378851e-97)\n",
            "Sample Correlation SpearmanrResult(correlation=0.04699685100375338, pvalue=0.13750865167681164)\n"
          ]
        }
      ]
    },
    {
      "cell_type": "code",
      "metadata": {
        "id": "7SXeaXVwaQH9"
      },
      "source": [
        "#We test for correlation between -1<0<1 so since our Spearman/Pearsons correlations are below 0.1, there is almost no correlation."
      ],
      "execution_count": 53,
      "outputs": []
    }
  ]
}